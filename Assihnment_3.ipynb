{
 "cells": [
  {
   "cell_type": "markdown",
   "metadata": {},
   "source": [
    "Write a Python Program to implement your own myreduce() function which works exactly\n",
    "like Python's built-in function reduce()"
   ]
  },
  {
   "cell_type": "code",
   "execution_count": 1,
   "metadata": {},
   "outputs": [
    {
     "name": "stdout",
     "output_type": "stream",
     "text": [
      "10\n"
     ]
    }
   ],
   "source": [
    "l=[1,2,3,4]\n",
    "def myreduce():\n",
    "    x=0\n",
    "    for i in range(len(l)):\n",
    "        if i==1:\n",
    "            x=l[0]+l[i]\n",
    "            continue\n",
    "        x=x+l[i]\n",
    "    print(x)\n",
    "myreduce()    "
   ]
  },
  {
   "cell_type": "markdown",
   "metadata": {},
   "source": [
    "Write a Python program to implement your own myfilter() function which works exactly\n",
    "like Python's built-in function filter()"
   ]
  },
  {
   "cell_type": "code",
   "execution_count": 2,
   "metadata": {},
   "outputs": [
    {
     "name": "stdout",
     "output_type": "stream",
     "text": [
      "[2, 4, 6, 8]\n"
     ]
    }
   ],
   "source": [
    "l1=[2,3,4,5,6,7,8]\n",
    "def myfilter():\n",
    "    x=[]\n",
    "    for i in range(len(l1)):\n",
    "        if l1[i]%2==0:     #even\n",
    "            x.append(l1[i])\n",
    "    print(x)\n",
    "myfilter()"
   ]
  },
  {
   "cell_type": "markdown",
   "metadata": {},
   "source": [
    "Implement List comprehensions to produce the following lists."
   ]
  },
  {
   "cell_type": "code",
   "execution_count": 3,
   "metadata": {},
   "outputs": [
    {
     "name": "stdout",
     "output_type": "stream",
     "text": [
      "['x', 'xx', 'xxx', 'xxxx', 'y', 'yy', 'yyy', 'yyyy', 'z', 'zz', 'zzz', 'zzzz']\n",
      "['x', 'y', 'z', 'xx', 'yy', 'zz', 'xxx', 'yyy', 'zzz', 'xxxx', 'yyyy', 'zzzz']\n",
      "[[2], [3], [4], [3], [4], [5], [4], [5], [6]]\n",
      "[[2, 3, 4, 5], [3, 4, 5, 6], [4, 5, 6, 7], [5, 6, 7, 8]]\n",
      "[(1, 1), (2, 1), (3, 1), (1, 2), (2, 2), (3, 2), (1, 3), (2, 3), (3, 3)]\n"
     ]
    }
   ],
   "source": [
    "lst = ['x','y','z']\n",
    "out = [ i*n for i in lst for n in range(1,5)  ]\n",
    "print(out)\n",
    "\n",
    "\n",
    "lst1 = ['x','y','z']\n",
    "out1 = [ i*n for n in range(1,5) for i in lst1  ]\n",
    "print(str(out1))\n",
    "\n",
    "\n",
    "lst2 = [2,3,4]\n",
    "out2 = [ [i+n] for i in lst2 for n in range(0,3)]\n",
    "print( str(out2))\n",
    "\n",
    "\n",
    "lst3 = [2,3,4,5]\n",
    "out3 = [ [i+n for i in lst3] for n in range(0,4)  ]\n",
    "print(str(out3))\n",
    "\n",
    "lst4=[1,2,3]\n",
    "out4 = [ (n,i) for i in lst4 for n in lst4]\n",
    "\n",
    "print(str(out4))"
   ]
  }
 ],
 "metadata": {
  "kernelspec": {
   "display_name": "Python 3",
   "language": "python",
   "name": "python3"
  },
  "language_info": {
   "codemirror_mode": {
    "name": "ipython",
    "version": 3
   },
   "file_extension": ".py",
   "mimetype": "text/x-python",
   "name": "python",
   "nbconvert_exporter": "python",
   "pygments_lexer": "ipython3",
   "version": "3.6.10"
  }
 },
 "nbformat": 4,
 "nbformat_minor": 4
}
